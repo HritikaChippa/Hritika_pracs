{
  "nbformat": 4,
  "nbformat_minor": 0,
  "metadata": {
    "colab": {
      "provenance": []
    },
    "kernelspec": {
      "name": "python3",
      "display_name": "Python 3"
    },
    "language_info": {
      "name": "python"
    }
  },
  "cells": [
    {
      "cell_type": "code",
      "source": [
        "import heapq\n",
        "\n",
        "class Node:\n",
        "    def __init__(self, freq, symbol, left=None, right=None):\n",
        "        self.freq = freq\n",
        "        self.symbol = symbol\n",
        "        self.left = left\n",
        "        self.right = right\n",
        "        self.huff = ''\n",
        "\n",
        "    def __lt__(self, other):\n",
        "        return self.freq < other.freq\n",
        "\n",
        "def print_nodes(node, val=''):\n",
        "    newVal = val + str(node.huff)\n",
        "\n",
        "    if node.left:\n",
        "        print_nodes(node.left, newVal)\n",
        "    if node.right:\n",
        "        print_nodes(node.right, newVal)\n",
        "\n",
        "    if not node.left and not node.right:\n",
        "        print(f\"{node.symbol} = {newVal}\")\n",
        "\n",
        "chars = ['a', 'b', 'c', 'd', 'e', 'f']\n",
        "freq = [5, 9, 12, 13, 16, 45]\n",
        "total_freq = sum(freq)  # Calculate total frequency\n",
        "nodes = []\n",
        "\n",
        "for x in range(len(chars)):\n",
        "    heapq.heappush(nodes, Node(freq[x], chars[x]))\n",
        "\n",
        "while len(nodes) > 1:\n",
        "    left = heapq.heappop(nodes)\n",
        "    right = heapq.heappop(nodes)\n",
        "\n",
        "    left.huff = '0'\n",
        "    right.huff = '1'\n",
        "\n",
        "    new_node = Node(left.freq + right.freq, left.symbol + right.symbol, left, right)\n",
        "    heapq.heappush(nodes, new_node)\n",
        "\n",
        "huffman_tree_root = nodes[0]\n",
        "print_nodes(huffman_tree_root)\n",
        "\n",
        "# Calculate compression ratio\n",
        "original_bits = total_freq * 8  # Assuming each character is 8 bits\n",
        "compressed_bits = len(chars) * len(freq) + len(huffman_tree_root.huff) * total_freq\n",
        "compression_ratio = original_bits / compressed_bits\n",
        "print(f\"Compression Ratio: {compression_ratio:.2f}\")\n"
      ],
      "metadata": {
        "colab": {
          "base_uri": "https://localhost:8080/"
        },
        "id": "ztJoUMVlCPUy",
        "outputId": "e7c77e79-29c0-46b4-b731-160a03b7a3f4"
      },
      "execution_count": null,
      "outputs": [
        {
          "output_type": "stream",
          "name": "stdout",
          "text": [
            "f = 0\n",
            "c = 100\n",
            "d = 101\n",
            "a = 1100\n",
            "b = 1101\n",
            "e = 111\n",
            "Compression Ratio: 22.22\n"
          ]
        }
      ]
    },
    {
      "cell_type": "code",
      "source": [],
      "metadata": {
        "id": "bVPV5i_iE9i4"
      },
      "execution_count": null,
      "outputs": []
    },
    {
      "cell_type": "code",
      "source": [],
      "metadata": {
        "id": "mw7OZNIlDl--"
      },
      "execution_count": null,
      "outputs": []
    }
  ]
}